{
  "nbformat": 4,
  "nbformat_minor": 0,
  "metadata": {
    "colab": {
      "provenance": [],
      "include_colab_link": true
    },
    "kernelspec": {
      "name": "python3",
      "display_name": "Python 3"
    },
    "language_info": {
      "name": "python"
    }
  },
  "cells": [
    {
      "cell_type": "markdown",
      "metadata": {
        "id": "view-in-github",
        "colab_type": "text"
      },
      "source": [
        "<a href=\"https://colab.research.google.com/github/Anurag5003/AN-EFFICIENT-ARCHITECTURE-FOR-THE-ACCURATE-PREDICTION-OF-CROP-USING-ENSEMBLE-LEARNING/blob/main/Data_Prep.ipynb\" target=\"_parent\"><img src=\"https://colab.research.google.com/assets/colab-badge.svg\" alt=\"Open In Colab\"/></a>"
      ]
    },
    {
      "cell_type": "markdown",
      "metadata": {
        "id": "OiLJOg6zmDgD"
      },
      "source": [
        "# **Transforming Raw Data to Processed Data for Model Training**"
      ]
    },
    {
      "cell_type": "code",
      "metadata": {
        "id": "WJQlEC-7mPS_"
      },
      "source": [
        "import pandas as pd"
      ],
      "execution_count": null,
      "outputs": []
    },
    {
      "cell_type": "code",
      "metadata": {
        "id": "s4liGbpkmbOb"
      },
      "source": [
        "crop = pd.read_csv('cpdata.csv')\n",
        "fert = pd.read_csv('Fertilizer.csv')"
      ],
      "execution_count": null,
      "outputs": []
    },
    {
      "cell_type": "code",
      "metadata": {
        "id": "KplV5gr92kY_"
      },
      "source": [
        "crop"
      ],
      "execution_count": null,
      "outputs": []
    },
    {
      "cell_type": "code",
      "metadata": {
        "colab": {
          "base_uri": "https://localhost:8080/",
          "height": 206
        },
        "id": "IUbb31dym5FN",
        "outputId": "ae7fa67e-766d-4e26-d497-614a3ad7a72e"
      },
      "source": [
        "crop.head()"
      ],
      "execution_count": null,
      "outputs": [
        {
          "output_type": "execute_result",
          "data": {
            "text/html": [
              "<div>\n",
              "<style scoped>\n",
              "    .dataframe tbody tr th:only-of-type {\n",
              "        vertical-align: middle;\n",
              "    }\n",
              "\n",
              "    .dataframe tbody tr th {\n",
              "        vertical-align: top;\n",
              "    }\n",
              "\n",
              "    .dataframe thead th {\n",
              "        text-align: right;\n",
              "    }\n",
              "</style>\n",
              "<table border=\"1\" class=\"dataframe\">\n",
              "  <thead>\n",
              "    <tr style=\"text-align: right;\">\n",
              "      <th></th>\n",
              "      <th>temperature</th>\n",
              "      <th>humidity</th>\n",
              "      <th>ph</th>\n",
              "      <th>rainfall</th>\n",
              "      <th>label</th>\n",
              "    </tr>\n",
              "  </thead>\n",
              "  <tbody>\n",
              "    <tr>\n",
              "      <th>0</th>\n",
              "      <td>20.879744</td>\n",
              "      <td>82.002744</td>\n",
              "      <td>6.502985</td>\n",
              "      <td>202.935536</td>\n",
              "      <td>rice</td>\n",
              "    </tr>\n",
              "    <tr>\n",
              "      <th>1</th>\n",
              "      <td>21.770462</td>\n",
              "      <td>80.319644</td>\n",
              "      <td>7.038096</td>\n",
              "      <td>226.655537</td>\n",
              "      <td>rice</td>\n",
              "    </tr>\n",
              "    <tr>\n",
              "      <th>2</th>\n",
              "      <td>23.004459</td>\n",
              "      <td>82.320763</td>\n",
              "      <td>7.840207</td>\n",
              "      <td>263.964248</td>\n",
              "      <td>rice</td>\n",
              "    </tr>\n",
              "    <tr>\n",
              "      <th>3</th>\n",
              "      <td>26.491096</td>\n",
              "      <td>80.158363</td>\n",
              "      <td>6.980401</td>\n",
              "      <td>242.864034</td>\n",
              "      <td>rice</td>\n",
              "    </tr>\n",
              "    <tr>\n",
              "      <th>4</th>\n",
              "      <td>20.130175</td>\n",
              "      <td>81.604873</td>\n",
              "      <td>7.628473</td>\n",
              "      <td>262.717340</td>\n",
              "      <td>rice</td>\n",
              "    </tr>\n",
              "  </tbody>\n",
              "</table>\n",
              "</div>"
            ],
            "text/plain": [
              "   temperature   humidity        ph    rainfall label\n",
              "0    20.879744  82.002744  6.502985  202.935536  rice\n",
              "1    21.770462  80.319644  7.038096  226.655537  rice\n",
              "2    23.004459  82.320763  7.840207  263.964248  rice\n",
              "3    26.491096  80.158363  6.980401  242.864034  rice\n",
              "4    20.130175  81.604873  7.628473  262.717340  rice"
            ]
          },
          "metadata": {},
          "execution_count": 12
        }
      ]
    },
    {
      "cell_type": "code",
      "metadata": {
        "colab": {
          "base_uri": "https://localhost:8080/",
          "height": 206
        },
        "id": "CeApH01Vm84X",
        "outputId": "f22a2b6b-1b21-4a15-c307-bc6518d69804"
      },
      "source": [
        "fert.head()"
      ],
      "execution_count": null,
      "outputs": [
        {
          "output_type": "execute_result",
          "data": {
            "text/html": [
              "<div>\n",
              "<style scoped>\n",
              "    .dataframe tbody tr th:only-of-type {\n",
              "        vertical-align: middle;\n",
              "    }\n",
              "\n",
              "    .dataframe tbody tr th {\n",
              "        vertical-align: top;\n",
              "    }\n",
              "\n",
              "    .dataframe thead th {\n",
              "        text-align: right;\n",
              "    }\n",
              "</style>\n",
              "<table border=\"1\" class=\"dataframe\">\n",
              "  <thead>\n",
              "    <tr style=\"text-align: right;\">\n",
              "      <th></th>\n",
              "      <th>Unnamed: 0</th>\n",
              "      <th>Crop</th>\n",
              "      <th>N</th>\n",
              "      <th>P</th>\n",
              "      <th>K</th>\n",
              "      <th>pH</th>\n",
              "    </tr>\n",
              "  </thead>\n",
              "  <tbody>\n",
              "    <tr>\n",
              "      <th>0</th>\n",
              "      <td>0</td>\n",
              "      <td>rice</td>\n",
              "      <td>80</td>\n",
              "      <td>40</td>\n",
              "      <td>40</td>\n",
              "      <td>5.5</td>\n",
              "    </tr>\n",
              "    <tr>\n",
              "      <th>1</th>\n",
              "      <td>1</td>\n",
              "      <td>jowar(sorghum)</td>\n",
              "      <td>80</td>\n",
              "      <td>40</td>\n",
              "      <td>40</td>\n",
              "      <td>5.5</td>\n",
              "    </tr>\n",
              "    <tr>\n",
              "      <th>2</th>\n",
              "      <td>2</td>\n",
              "      <td>barley(jav)</td>\n",
              "      <td>70</td>\n",
              "      <td>40</td>\n",
              "      <td>45</td>\n",
              "      <td>5.5</td>\n",
              "    </tr>\n",
              "    <tr>\n",
              "      <th>3</th>\n",
              "      <td>3</td>\n",
              "      <td>maize</td>\n",
              "      <td>80</td>\n",
              "      <td>40</td>\n",
              "      <td>20</td>\n",
              "      <td>5.5</td>\n",
              "    </tr>\n",
              "    <tr>\n",
              "      <th>4</th>\n",
              "      <td>4</td>\n",
              "      <td>ragi(naachnnii)</td>\n",
              "      <td>50</td>\n",
              "      <td>40</td>\n",
              "      <td>20</td>\n",
              "      <td>5.5</td>\n",
              "    </tr>\n",
              "  </tbody>\n",
              "</table>\n",
              "</div>"
            ],
            "text/plain": [
              "   Unnamed: 0             Crop   N   P   K   pH\n",
              "0           0             rice  80  40  40  5.5\n",
              "1           1   jowar(sorghum)  80  40  40  5.5\n",
              "2           2      barley(jav)  70  40  45  5.5\n",
              "3           3            maize  80  40  20  5.5\n",
              "4           4  ragi(naachnnii)  50  40  20  5.5"
            ]
          },
          "metadata": {},
          "execution_count": 13
        }
      ]
    },
    {
      "cell_type": "code",
      "metadata": {
        "id": "G64Uh_d0nCRi"
      },
      "source": [
        "# Function for lowering the cases\n",
        "def change_case(i):\n",
        "    i = i.replace(\" \", \"\")\n",
        "    i = i.lower()\n",
        "    return i\n",
        "\n",
        "fert['Crop'] = fert['Crop'].apply(change_case)\n",
        "crop['label'] = crop['label'].apply(change_case)"
      ],
      "execution_count": null,
      "outputs": []
    },
    {
      "cell_type": "code",
      "metadata": {
        "id": "BBcHHdmJnMuj"
      },
      "source": [
        "#make some changes in ferttilizer dataset\n",
        "\n",
        "fert['Crop'] = fert['Crop'].replace('mungbeans','mungbean')\n",
        "fert['Crop'] = fert['Crop'].replace('lentils(masoordal)','lentil')\n",
        "fert['Crop'] = fert['Crop'].replace('pigeonpeas(toordal)','pigeonpeas')\n",
        "fert['Crop'] = fert['Crop'].replace('mothbean(matki)','mothbeans')\n",
        "fert['Crop'] = fert['Crop'].replace('chickpeas(channa)','chickpea')"
      ],
      "execution_count": null,
      "outputs": []
    },
    {
      "cell_type": "code",
      "metadata": {
        "colab": {
          "base_uri": "https://localhost:8080/",
          "height": 423
        },
        "id": "n1Fqm53R3nj7",
        "outputId": "fd94855c-be07-4aa8-cadb-3b3be116a570"
      },
      "source": [
        "fert"
      ],
      "execution_count": null,
      "outputs": [
        {
          "output_type": "execute_result",
          "data": {
            "text/html": [
              "<div>\n",
              "<style scoped>\n",
              "    .dataframe tbody tr th:only-of-type {\n",
              "        vertical-align: middle;\n",
              "    }\n",
              "\n",
              "    .dataframe tbody tr th {\n",
              "        vertical-align: top;\n",
              "    }\n",
              "\n",
              "    .dataframe thead th {\n",
              "        text-align: right;\n",
              "    }\n",
              "</style>\n",
              "<table border=\"1\" class=\"dataframe\">\n",
              "  <thead>\n",
              "    <tr style=\"text-align: right;\">\n",
              "      <th></th>\n",
              "      <th>Unnamed: 0</th>\n",
              "      <th>Crop</th>\n",
              "      <th>N</th>\n",
              "      <th>P</th>\n",
              "      <th>K</th>\n",
              "      <th>pH</th>\n",
              "    </tr>\n",
              "  </thead>\n",
              "  <tbody>\n",
              "    <tr>\n",
              "      <th>0</th>\n",
              "      <td>0</td>\n",
              "      <td>rice</td>\n",
              "      <td>80</td>\n",
              "      <td>40</td>\n",
              "      <td>40</td>\n",
              "      <td>5.50</td>\n",
              "    </tr>\n",
              "    <tr>\n",
              "      <th>1</th>\n",
              "      <td>1</td>\n",
              "      <td>jowar(sorghum)</td>\n",
              "      <td>80</td>\n",
              "      <td>40</td>\n",
              "      <td>40</td>\n",
              "      <td>5.50</td>\n",
              "    </tr>\n",
              "    <tr>\n",
              "      <th>2</th>\n",
              "      <td>2</td>\n",
              "      <td>barley(jav)</td>\n",
              "      <td>70</td>\n",
              "      <td>40</td>\n",
              "      <td>45</td>\n",
              "      <td>5.50</td>\n",
              "    </tr>\n",
              "    <tr>\n",
              "      <th>3</th>\n",
              "      <td>3</td>\n",
              "      <td>maize</td>\n",
              "      <td>80</td>\n",
              "      <td>40</td>\n",
              "      <td>20</td>\n",
              "      <td>5.50</td>\n",
              "    </tr>\n",
              "    <tr>\n",
              "      <th>4</th>\n",
              "      <td>4</td>\n",
              "      <td>ragi(naachnnii)</td>\n",
              "      <td>50</td>\n",
              "      <td>40</td>\n",
              "      <td>20</td>\n",
              "      <td>5.50</td>\n",
              "    </tr>\n",
              "    <tr>\n",
              "      <th>...</th>\n",
              "      <td>...</td>\n",
              "      <td>...</td>\n",
              "      <td>...</td>\n",
              "      <td>...</td>\n",
              "      <td>...</td>\n",
              "      <td>...</td>\n",
              "    </tr>\n",
              "    <tr>\n",
              "      <th>1838</th>\n",
              "      <td>1838</td>\n",
              "      <td>lemongrass</td>\n",
              "      <td>25</td>\n",
              "      <td>40</td>\n",
              "      <td>40</td>\n",
              "      <td>5.32</td>\n",
              "    </tr>\n",
              "    <tr>\n",
              "      <th>1839</th>\n",
              "      <td>1839</td>\n",
              "      <td>cotton</td>\n",
              "      <td>120</td>\n",
              "      <td>40</td>\n",
              "      <td>20</td>\n",
              "      <td>5.32</td>\n",
              "    </tr>\n",
              "    <tr>\n",
              "      <th>1840</th>\n",
              "      <td>1840</td>\n",
              "      <td>jute</td>\n",
              "      <td>80</td>\n",
              "      <td>40</td>\n",
              "      <td>40</td>\n",
              "      <td>5.32</td>\n",
              "    </tr>\n",
              "    <tr>\n",
              "      <th>1841</th>\n",
              "      <td>1841</td>\n",
              "      <td>coffee</td>\n",
              "      <td>100</td>\n",
              "      <td>20</td>\n",
              "      <td>30</td>\n",
              "      <td>5.32</td>\n",
              "    </tr>\n",
              "    <tr>\n",
              "      <th>1842</th>\n",
              "      <td>1842</td>\n",
              "      <td>sunflower</td>\n",
              "      <td>50</td>\n",
              "      <td>60</td>\n",
              "      <td>30</td>\n",
              "      <td>5.32</td>\n",
              "    </tr>\n",
              "  </tbody>\n",
              "</table>\n",
              "<p>1843 rows × 6 columns</p>\n",
              "</div>"
            ],
            "text/plain": [
              "      Unnamed: 0             Crop    N   P   K    pH\n",
              "0              0             rice   80  40  40  5.50\n",
              "1              1   jowar(sorghum)   80  40  40  5.50\n",
              "2              2      barley(jav)   70  40  45  5.50\n",
              "3              3            maize   80  40  20  5.50\n",
              "4              4  ragi(naachnnii)   50  40  20  5.50\n",
              "...          ...              ...  ...  ..  ..   ...\n",
              "1838        1838       lemongrass   25  40  40  5.32\n",
              "1839        1839           cotton  120  40  20  5.32\n",
              "1840        1840             jute   80  40  40  5.32\n",
              "1841        1841           coffee  100  20  30  5.32\n",
              "1842        1842        sunflower   50  60  30  5.32\n",
              "\n",
              "[1843 rows x 6 columns]"
            ]
          },
          "metadata": {},
          "execution_count": 16
        }
      ]
    },
    {
      "cell_type": "code",
      "metadata": {
        "colab": {
          "base_uri": "https://localhost:8080/"
        },
        "id": "_fnawfo8nSI4",
        "outputId": "a912b742-f5bf-4d6d-8d4d-4731402c3691"
      },
      "source": [
        "crop_names = crop['label'].value_counts()\n",
        "print(len(crop_names))"
      ],
      "execution_count": null,
      "outputs": [
        {
          "output_type": "stream",
          "name": "stdout",
          "text": [
            "31\n"
          ]
        }
      ]
    },
    {
      "cell_type": "code",
      "metadata": {
        "colab": {
          "base_uri": "https://localhost:8080/"
        },
        "id": "9XSeGZYlnaMS",
        "outputId": "244f86e5-d798-48f4-a2d8-f600eb5de7bc"
      },
      "source": [
        "del fert['Unnamed: 0']\n",
        "\n",
        "crop_names_from_fert = fert['Crop'].unique()\n",
        "crop_names_from_fert"
      ],
      "execution_count": null,
      "outputs": [
        {
          "output_type": "execute_result",
          "data": {
            "text/plain": [
              "array(['rice', 'jowar(sorghum)', 'barley(jav)', 'maize',\n",
              "       'ragi(naachnnii)', 'chickpea', 'frenchbeans(farasbi)',\n",
              "       'favabeans(papdi-val)', 'limabeans(pavta)', 'clusterbeans(gavar)',\n",
              "       'soyabean', 'blackeyedbeans(chawli)', 'kidneybeans', 'pigeonpeas',\n",
              "       'mothbeans', 'mungbean', 'greenpeas', 'horsegram(kulthi)',\n",
              "       'blackgram', 'rapeseed(mohri)', 'corianderseeds', 'mustardseeds',\n",
              "       'sesameseed', 'cuminseeds', 'lentil', 'brinjal', 'beetroot',\n",
              "       'bittergourd', 'bottlegourd', 'capsicum', 'cabbage', 'carrot',\n",
              "       'cauliflower', 'cucumber', 'corianderleaves', 'curryleaves',\n",
              "       'drumstick–moringa', 'chili', 'ladyfinger', 'mushroom', 'onion',\n",
              "       'potato', 'pumpkin', 'radish', 'olive', 'sweetpotato',\n",
              "       'fenugreekleaf(methi)', 'spinach', 'ridgegourd',\n",
              "       'gooseberry(amla)', 'jambun(syzygiumcumini)',\n",
              "       'ziziphusmauritiana(bor)', 'garciniaindica(kokam)', 'tamarind',\n",
              "       'tapioca(suran)', 'garlic', 'lemon', 'tomato', 'ashgourd',\n",
              "       'pineapple', 'pomegranate', 'banana', 'mango', 'grapes',\n",
              "       'jackfruit', 'guava', 'watermelon', 'muskmelon', 'apricot',\n",
              "       'apple', 'chickoo', 'custardapple', 'dates', 'figs', 'orange',\n",
              "       'papaya', 'aniseed', 'asafoetida', 'bayleaf', 'blackpepper',\n",
              "       'cardamom', 'cinnamon', 'cloves', 'jaiphal(nutmeg)', 'ginger',\n",
              "       'turmeric', 'cashewnuts', 'raisins', 'coconut', 'almondnut',\n",
              "       'arecanut', 'pistachionut', 'lemongrass', 'cotton', 'jute',\n",
              "       'coffee', 'sunflower'], dtype=object)"
            ]
          },
          "metadata": {},
          "execution_count": 18
        }
      ]
    },
    {
      "cell_type": "code",
      "metadata": {
        "colab": {
          "base_uri": "https://localhost:8080/"
        },
        "id": "LJtcnd_Inq53",
        "outputId": "57f06321-1a7a-4eb4-fc40-c6ac71d0a827"
      },
      "source": [
        "crop['label']"
      ],
      "execution_count": null,
      "outputs": [
        {
          "output_type": "execute_result",
          "data": {
            "text/plain": [
              "0             rice\n",
              "1             rice\n",
              "2             rice\n",
              "3             rice\n",
              "4             rice\n",
              "           ...    \n",
              "3095    watermelon\n",
              "3096    watermelon\n",
              "3097    watermelon\n",
              "3098    watermelon\n",
              "3099    watermelon\n",
              "Name: label, Length: 3100, dtype: object"
            ]
          },
          "metadata": {},
          "execution_count": 19
        }
      ]
    },
    {
      "cell_type": "code",
      "metadata": {
        "id": "IBXfUi3vn2W5"
      },
      "source": [
        "extract_labels = []\n",
        "for i in crop_names_from_fert:\n",
        "    if i in crop_names:\n",
        "        extract_labels.append(i)"
      ],
      "execution_count": null,
      "outputs": []
    },
    {
      "cell_type": "code",
      "metadata": {
        "id": "DF_TG-5nn5Qi"
      },
      "source": [
        "# using extract labels on crop to get all the data related to those labels\n",
        "new_crop = pd.DataFrame(columns = crop.columns)\n",
        "new_fert = pd.DataFrame(columns = fert.columns)"
      ],
      "execution_count": null,
      "outputs": []
    },
    {
      "cell_type": "code",
      "metadata": {
        "colab": {
          "base_uri": "https://localhost:8080/",
          "height": 394
        },
        "id": "Wpd_Fg_Ln-ME",
        "outputId": "b74d4da6-e894-40c2-dc55-13fe62c5879c"
      },
      "source": [
        "for label in extract_labels:\n",
        "    new_crop = new_crop.append(crop[crop['label'] == label])\n",
        "\n",
        "for label in extract_labels:\n",
        "    new_fert = new_fert.append(fert[fert['Crop'] == label].iloc[0])\n",
        "\n",
        "new_crop\n",
        "new_fert"
      ],
      "execution_count": null,
      "outputs": [
        {
          "output_type": "execute_result",
          "data": {
            "text/html": [
              "<div>\n",
              "<style scoped>\n",
              "    .dataframe tbody tr th:only-of-type {\n",
              "        vertical-align: middle;\n",
              "    }\n",
              "\n",
              "    .dataframe tbody tr th {\n",
              "        vertical-align: top;\n",
              "    }\n",
              "\n",
              "    .dataframe thead th {\n",
              "        text-align: right;\n",
              "    }\n",
              "</style>\n",
              "<table border=\"1\" class=\"dataframe\">\n",
              "  <thead>\n",
              "    <tr style=\"text-align: right;\">\n",
              "      <th></th>\n",
              "      <th>Crop</th>\n",
              "      <th>N</th>\n",
              "      <th>P</th>\n",
              "      <th>K</th>\n",
              "      <th>pH</th>\n",
              "    </tr>\n",
              "  </thead>\n",
              "  <tbody>\n",
              "    <tr>\n",
              "      <th>0</th>\n",
              "      <td>rice</td>\n",
              "      <td>80</td>\n",
              "      <td>40</td>\n",
              "      <td>40</td>\n",
              "      <td>5.5</td>\n",
              "    </tr>\n",
              "    <tr>\n",
              "      <th>3</th>\n",
              "      <td>maize</td>\n",
              "      <td>80</td>\n",
              "      <td>40</td>\n",
              "      <td>20</td>\n",
              "      <td>5.5</td>\n",
              "    </tr>\n",
              "    <tr>\n",
              "      <th>60</th>\n",
              "      <td>pomegranate</td>\n",
              "      <td>20</td>\n",
              "      <td>10</td>\n",
              "      <td>40</td>\n",
              "      <td>5.5</td>\n",
              "    </tr>\n",
              "    <tr>\n",
              "      <th>61</th>\n",
              "      <td>banana</td>\n",
              "      <td>100</td>\n",
              "      <td>75</td>\n",
              "      <td>50</td>\n",
              "      <td>6.5</td>\n",
              "    </tr>\n",
              "    <tr>\n",
              "      <th>62</th>\n",
              "      <td>mango</td>\n",
              "      <td>20</td>\n",
              "      <td>20</td>\n",
              "      <td>30</td>\n",
              "      <td>5.0</td>\n",
              "    </tr>\n",
              "    <tr>\n",
              "      <th>63</th>\n",
              "      <td>grapes</td>\n",
              "      <td>20</td>\n",
              "      <td>125</td>\n",
              "      <td>200</td>\n",
              "      <td>4.0</td>\n",
              "    </tr>\n",
              "    <tr>\n",
              "      <th>66</th>\n",
              "      <td>watermelon</td>\n",
              "      <td>100</td>\n",
              "      <td>10</td>\n",
              "      <td>50</td>\n",
              "      <td>5.5</td>\n",
              "    </tr>\n",
              "    <tr>\n",
              "      <th>67</th>\n",
              "      <td>muskmelon</td>\n",
              "      <td>100</td>\n",
              "      <td>10</td>\n",
              "      <td>50</td>\n",
              "      <td>5.5</td>\n",
              "    </tr>\n",
              "    <tr>\n",
              "      <th>69</th>\n",
              "      <td>apple</td>\n",
              "      <td>20</td>\n",
              "      <td>125</td>\n",
              "      <td>200</td>\n",
              "      <td>6.5</td>\n",
              "    </tr>\n",
              "    <tr>\n",
              "      <th>74</th>\n",
              "      <td>orange</td>\n",
              "      <td>20</td>\n",
              "      <td>10</td>\n",
              "      <td>10</td>\n",
              "      <td>4.0</td>\n",
              "    </tr>\n",
              "    <tr>\n",
              "      <th>75</th>\n",
              "      <td>papaya</td>\n",
              "      <td>50</td>\n",
              "      <td>50</td>\n",
              "      <td>50</td>\n",
              "      <td>6.0</td>\n",
              "    </tr>\n",
              "  </tbody>\n",
              "</table>\n",
              "</div>"
            ],
            "text/plain": [
              "           Crop    N    P    K   pH\n",
              "0          rice   80   40   40  5.5\n",
              "3         maize   80   40   20  5.5\n",
              "60  pomegranate   20   10   40  5.5\n",
              "61       banana  100   75   50  6.5\n",
              "62        mango   20   20   30  5.0\n",
              "63       grapes   20  125  200  4.0\n",
              "66   watermelon  100   10   50  5.5\n",
              "67    muskmelon  100   10   50  5.5\n",
              "69        apple   20  125  200  6.5\n",
              "74       orange   20   10   10  4.0\n",
              "75       papaya   50   50   50  6.0"
            ]
          },
          "metadata": {},
          "execution_count": 22
        }
      ]
    },
    {
      "cell_type": "code",
      "metadata": {
        "colab": {
          "base_uri": "https://localhost:8080/",
          "height": 394
        },
        "id": "IqLBlAZw4YTp",
        "outputId": "02a78ce6-8596-4815-8249-868ad6d644ee"
      },
      "source": [
        "new_fert\n"
      ],
      "execution_count": null,
      "outputs": [
        {
          "output_type": "execute_result",
          "data": {
            "text/html": [
              "<div>\n",
              "<style scoped>\n",
              "    .dataframe tbody tr th:only-of-type {\n",
              "        vertical-align: middle;\n",
              "    }\n",
              "\n",
              "    .dataframe tbody tr th {\n",
              "        vertical-align: top;\n",
              "    }\n",
              "\n",
              "    .dataframe thead th {\n",
              "        text-align: right;\n",
              "    }\n",
              "</style>\n",
              "<table border=\"1\" class=\"dataframe\">\n",
              "  <thead>\n",
              "    <tr style=\"text-align: right;\">\n",
              "      <th></th>\n",
              "      <th>Crop</th>\n",
              "      <th>N</th>\n",
              "      <th>P</th>\n",
              "      <th>K</th>\n",
              "      <th>pH</th>\n",
              "    </tr>\n",
              "  </thead>\n",
              "  <tbody>\n",
              "    <tr>\n",
              "      <th>0</th>\n",
              "      <td>rice</td>\n",
              "      <td>80</td>\n",
              "      <td>40</td>\n",
              "      <td>40</td>\n",
              "      <td>5.5</td>\n",
              "    </tr>\n",
              "    <tr>\n",
              "      <th>3</th>\n",
              "      <td>maize</td>\n",
              "      <td>80</td>\n",
              "      <td>40</td>\n",
              "      <td>20</td>\n",
              "      <td>5.5</td>\n",
              "    </tr>\n",
              "    <tr>\n",
              "      <th>60</th>\n",
              "      <td>pomegranate</td>\n",
              "      <td>20</td>\n",
              "      <td>10</td>\n",
              "      <td>40</td>\n",
              "      <td>5.5</td>\n",
              "    </tr>\n",
              "    <tr>\n",
              "      <th>61</th>\n",
              "      <td>banana</td>\n",
              "      <td>100</td>\n",
              "      <td>75</td>\n",
              "      <td>50</td>\n",
              "      <td>6.5</td>\n",
              "    </tr>\n",
              "    <tr>\n",
              "      <th>62</th>\n",
              "      <td>mango</td>\n",
              "      <td>20</td>\n",
              "      <td>20</td>\n",
              "      <td>30</td>\n",
              "      <td>5.0</td>\n",
              "    </tr>\n",
              "    <tr>\n",
              "      <th>63</th>\n",
              "      <td>grapes</td>\n",
              "      <td>20</td>\n",
              "      <td>125</td>\n",
              "      <td>200</td>\n",
              "      <td>4.0</td>\n",
              "    </tr>\n",
              "    <tr>\n",
              "      <th>66</th>\n",
              "      <td>watermelon</td>\n",
              "      <td>100</td>\n",
              "      <td>10</td>\n",
              "      <td>50</td>\n",
              "      <td>5.5</td>\n",
              "    </tr>\n",
              "    <tr>\n",
              "      <th>67</th>\n",
              "      <td>muskmelon</td>\n",
              "      <td>100</td>\n",
              "      <td>10</td>\n",
              "      <td>50</td>\n",
              "      <td>5.5</td>\n",
              "    </tr>\n",
              "    <tr>\n",
              "      <th>69</th>\n",
              "      <td>apple</td>\n",
              "      <td>20</td>\n",
              "      <td>125</td>\n",
              "      <td>200</td>\n",
              "      <td>6.5</td>\n",
              "    </tr>\n",
              "    <tr>\n",
              "      <th>74</th>\n",
              "      <td>orange</td>\n",
              "      <td>20</td>\n",
              "      <td>10</td>\n",
              "      <td>10</td>\n",
              "      <td>4.0</td>\n",
              "    </tr>\n",
              "    <tr>\n",
              "      <th>75</th>\n",
              "      <td>papaya</td>\n",
              "      <td>50</td>\n",
              "      <td>50</td>\n",
              "      <td>50</td>\n",
              "      <td>6.0</td>\n",
              "    </tr>\n",
              "  </tbody>\n",
              "</table>\n",
              "</div>"
            ],
            "text/plain": [
              "           Crop    N    P    K   pH\n",
              "0          rice   80   40   40  5.5\n",
              "3         maize   80   40   20  5.5\n",
              "60  pomegranate   20   10   40  5.5\n",
              "61       banana  100   75   50  6.5\n",
              "62        mango   20   20   30  5.0\n",
              "63       grapes   20  125  200  4.0\n",
              "66   watermelon  100   10   50  5.5\n",
              "67    muskmelon  100   10   50  5.5\n",
              "69        apple   20  125  200  6.5\n",
              "74       orange   20   10   10  4.0\n",
              "75       papaya   50   50   50  6.0"
            ]
          },
          "metadata": {},
          "execution_count": 23
        }
      ]
    },
    {
      "cell_type": "code",
      "metadata": {
        "colab": {
          "base_uri": "https://localhost:8080/",
          "height": 423
        },
        "id": "aawJECuj4iUp",
        "outputId": "956a4c1e-b648-42fd-c47e-75c00d8e026e"
      },
      "source": [
        "new_crop"
      ],
      "execution_count": null,
      "outputs": [
        {
          "output_type": "execute_result",
          "data": {
            "text/html": [
              "<div>\n",
              "<style scoped>\n",
              "    .dataframe tbody tr th:only-of-type {\n",
              "        vertical-align: middle;\n",
              "    }\n",
              "\n",
              "    .dataframe tbody tr th {\n",
              "        vertical-align: top;\n",
              "    }\n",
              "\n",
              "    .dataframe thead th {\n",
              "        text-align: right;\n",
              "    }\n",
              "</style>\n",
              "<table border=\"1\" class=\"dataframe\">\n",
              "  <thead>\n",
              "    <tr style=\"text-align: right;\">\n",
              "      <th></th>\n",
              "      <th>temperature</th>\n",
              "      <th>humidity</th>\n",
              "      <th>ph</th>\n",
              "      <th>rainfall</th>\n",
              "      <th>label</th>\n",
              "    </tr>\n",
              "  </thead>\n",
              "  <tbody>\n",
              "    <tr>\n",
              "      <th>0</th>\n",
              "      <td>20.879744</td>\n",
              "      <td>82.002744</td>\n",
              "      <td>6.502985</td>\n",
              "      <td>202.935536</td>\n",
              "      <td>rice</td>\n",
              "    </tr>\n",
              "    <tr>\n",
              "      <th>1</th>\n",
              "      <td>21.770462</td>\n",
              "      <td>80.319644</td>\n",
              "      <td>7.038096</td>\n",
              "      <td>226.655537</td>\n",
              "      <td>rice</td>\n",
              "    </tr>\n",
              "    <tr>\n",
              "      <th>2</th>\n",
              "      <td>23.004459</td>\n",
              "      <td>82.320763</td>\n",
              "      <td>7.840207</td>\n",
              "      <td>263.964248</td>\n",
              "      <td>rice</td>\n",
              "    </tr>\n",
              "    <tr>\n",
              "      <th>3</th>\n",
              "      <td>26.491096</td>\n",
              "      <td>80.158363</td>\n",
              "      <td>6.980401</td>\n",
              "      <td>242.864034</td>\n",
              "      <td>rice</td>\n",
              "    </tr>\n",
              "    <tr>\n",
              "      <th>4</th>\n",
              "      <td>20.130175</td>\n",
              "      <td>81.604873</td>\n",
              "      <td>7.628473</td>\n",
              "      <td>262.717340</td>\n",
              "      <td>rice</td>\n",
              "    </tr>\n",
              "    <tr>\n",
              "      <th>...</th>\n",
              "      <td>...</td>\n",
              "      <td>...</td>\n",
              "      <td>...</td>\n",
              "      <td>...</td>\n",
              "      <td>...</td>\n",
              "    </tr>\n",
              "    <tr>\n",
              "      <th>2895</th>\n",
              "      <td>40.102077</td>\n",
              "      <td>94.351102</td>\n",
              "      <td>6.979102</td>\n",
              "      <td>149.119999</td>\n",
              "      <td>papaya</td>\n",
              "    </tr>\n",
              "    <tr>\n",
              "      <th>2896</th>\n",
              "      <td>38.589545</td>\n",
              "      <td>91.580765</td>\n",
              "      <td>6.825665</td>\n",
              "      <td>102.270823</td>\n",
              "      <td>papaya</td>\n",
              "    </tr>\n",
              "    <tr>\n",
              "      <th>2897</th>\n",
              "      <td>41.313301</td>\n",
              "      <td>91.150880</td>\n",
              "      <td>6.617067</td>\n",
              "      <td>239.742755</td>\n",
              "      <td>papaya</td>\n",
              "    </tr>\n",
              "    <tr>\n",
              "      <th>2898</th>\n",
              "      <td>37.035519</td>\n",
              "      <td>91.794302</td>\n",
              "      <td>6.551893</td>\n",
              "      <td>188.518142</td>\n",
              "      <td>papaya</td>\n",
              "    </tr>\n",
              "    <tr>\n",
              "      <th>2899</th>\n",
              "      <td>23.012402</td>\n",
              "      <td>91.073555</td>\n",
              "      <td>6.598860</td>\n",
              "      <td>208.335798</td>\n",
              "      <td>papaya</td>\n",
              "    </tr>\n",
              "  </tbody>\n",
              "</table>\n",
              "<p>1100 rows × 5 columns</p>\n",
              "</div>"
            ],
            "text/plain": [
              "      temperature   humidity        ph    rainfall   label\n",
              "0       20.879744  82.002744  6.502985  202.935536    rice\n",
              "1       21.770462  80.319644  7.038096  226.655537    rice\n",
              "2       23.004459  82.320763  7.840207  263.964248    rice\n",
              "3       26.491096  80.158363  6.980401  242.864034    rice\n",
              "4       20.130175  81.604873  7.628473  262.717340    rice\n",
              "...           ...        ...       ...         ...     ...\n",
              "2895    40.102077  94.351102  6.979102  149.119999  papaya\n",
              "2896    38.589545  91.580765  6.825665  102.270823  papaya\n",
              "2897    41.313301  91.150880  6.617067  239.742755  papaya\n",
              "2898    37.035519  91.794302  6.551893  188.518142  papaya\n",
              "2899    23.012402  91.073555  6.598860  208.335798  papaya\n",
              "\n",
              "[1100 rows x 5 columns]"
            ]
          },
          "metadata": {},
          "execution_count": 24
        }
      ]
    },
    {
      "cell_type": "code",
      "metadata": {
        "colab": {
          "base_uri": "https://localhost:8080/"
        },
        "id": "Z71q5Os54xq_",
        "outputId": "5a4563dc-b6d6-4c90-9ff1-725d25400363"
      },
      "source": [
        "new_crop.info()"
      ],
      "execution_count": null,
      "outputs": [
        {
          "output_type": "stream",
          "name": "stdout",
          "text": [
            "<class 'pandas.core.frame.DataFrame'>\n",
            "Int64Index: 1100 entries, 0 to 2899\n",
            "Data columns (total 5 columns):\n",
            " #   Column       Non-Null Count  Dtype  \n",
            "---  ------       --------------  -----  \n",
            " 0   temperature  1100 non-null   float64\n",
            " 1   humidity     1100 non-null   float64\n",
            " 2   ph           1100 non-null   float64\n",
            " 3   rainfall     1100 non-null   float64\n",
            " 4   label        1100 non-null   object \n",
            "dtypes: float64(4), object(1)\n",
            "memory usage: 51.6+ KB\n"
          ]
        }
      ]
    },
    {
      "cell_type": "code",
      "metadata": {
        "colab": {
          "base_uri": "https://localhost:8080/"
        },
        "id": "0SbRY92_5x9w",
        "outputId": "87ad0c86-638e-4d11-9ee2-5f97a97350e9"
      },
      "source": [
        "new_crop['label'].nunique()"
      ],
      "execution_count": null,
      "outputs": [
        {
          "output_type": "execute_result",
          "data": {
            "text/plain": [
              "11"
            ]
          },
          "metadata": {},
          "execution_count": 33
        }
      ]
    },
    {
      "cell_type": "code",
      "metadata": {
        "colab": {
          "base_uri": "https://localhost:8080/"
        },
        "id": "3prP5LOK5oZu",
        "outputId": "9f1876ed-b8ff-4e66-d051-cbddbc1418f4"
      },
      "source": [
        "new_fert.info()"
      ],
      "execution_count": null,
      "outputs": [
        {
          "output_type": "stream",
          "name": "stdout",
          "text": [
            "<class 'pandas.core.frame.DataFrame'>\n",
            "Int64Index: 11 entries, 0 to 75\n",
            "Data columns (total 5 columns):\n",
            " #   Column  Non-Null Count  Dtype  \n",
            "---  ------  --------------  -----  \n",
            " 0   Crop    11 non-null     object \n",
            " 1   N       11 non-null     object \n",
            " 2   P       11 non-null     object \n",
            " 3   K       11 non-null     object \n",
            " 4   pH      11 non-null     float64\n",
            "dtypes: float64(1), object(4)\n",
            "memory usage: 528.0+ bytes\n"
          ]
        }
      ]
    }
  ]
}